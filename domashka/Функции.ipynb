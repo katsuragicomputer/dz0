{
 "cells": [
  {
   "cell_type": "markdown",
   "metadata": {},
   "source": [
    "Напишите функцию, которая берёт на вход строку и возвращает true, если она является палиндромом и false в противном случае.\n"
   ]
  },
  {
   "cell_type": "code",
   "execution_count": 34,
   "metadata": {},
   "outputs": [
    {
     "name": "stdout",
     "output_type": "stream",
     "text": [
      "False\n"
     ]
    }
   ],
   "source": [
    "def my_func(x):\n",
    "  x = x.lower()\n",
    "  x_1 = x[::-1]\n",
    "  if x == x_1:\n",
    "   return True\n",
    "  return False\n",
    "\n",
    "n = (my_func(str(input())))\n",
    "print(n)"
   ]
  },
  {
   "cell_type": "markdown",
   "metadata": {},
   "source": [
    "Напишите и вызовете для себя или какого-нибудь персонажа функцию, которая берёт на вход имя, фамилию, отчество и возраст и возвращает строку вида “Иванов Иван Иванович 1973 г.р. зарегистрирован”.\n"
   ]
  },
  {
   "cell_type": "code",
   "execution_count": 7,
   "metadata": {},
   "outputs": [
    {
     "name": "stdout",
     "output_type": "stream",
     "text": [
      "a s d 2000г.р. зарегестрирован\n"
     ]
    }
   ],
   "source": [
    "def passport(name,surname,father,age):\n",
    " age = str(2023 - int(age))\n",
    " reg = name + \" \" + surname + \" \" + father + \" \" + age + \"г.р. зарегестрирован\"\n",
    " return reg\n",
    "\n",
    "n = str(input())\n",
    "s = str(input())\n",
    "f = str(input()) \n",
    "a = str(input())\n",
    "b = passport(n,s,f,a)\n",
    "print(b)"
   ]
  },
  {
   "cell_type": "markdown",
   "metadata": {},
   "source": [
    "Напишите функцию, которая берёт на вход 2 или 3 натуральных числа и возвращает их максимум. Встроенным методом max() пользоваться нельзя Возможно, вам потребуется указать аргумент по умолчанию.\n"
   ]
  },
  {
   "cell_type": "code",
   "execution_count": 5,
   "metadata": {},
   "outputs": [
    {
     "name": "stdout",
     "output_type": "stream",
     "text": [
      "числа равны\n",
      "None\n"
     ]
    }
   ],
   "source": [
    "def my_max(x,y,z):\n",
    "    if x > y and x > z:\n",
    "         return x\n",
    "    elif y > x and y > z:\n",
    "           return y \n",
    "    elif x == y and x > z:\n",
    "            return x\n",
    "    elif x == z and x > y:\n",
    "            return x \n",
    "    elif y == z and z > x:\n",
    "            return z\n",
    "    elif x == y and x > z:\n",
    "            return y\n",
    "    else:\n",
    "        print(\"числа равны\")\n",
    "\n",
    "a = int(input())  \n",
    "b = int(input())  \n",
    "c = int(input())            \n",
    "print(my_max(a,b,c))"
   ]
  }
 ],
 "metadata": {
  "kernelspec": {
   "display_name": "Python 3",
   "language": "python",
   "name": "python3"
  },
  "language_info": {
   "codemirror_mode": {
    "name": "ipython",
    "version": 3
   },
   "file_extension": ".py",
   "mimetype": "text/x-python",
   "name": "python",
   "nbconvert_exporter": "python",
   "pygments_lexer": "ipython3",
   "version": "3.11.6"
  }
 },
 "nbformat": 4,
 "nbformat_minor": 2
}
