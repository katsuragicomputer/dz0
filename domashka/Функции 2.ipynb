{
 "cells": [
  {
   "cell_type": "markdown",
   "metadata": {},
   "source": [
    "Задача 1. Напишите программу на Python для поочередного сложения элементов двух заданных списков, используя map и lambda.\n"
   ]
  },
  {
   "cell_type": "code",
   "execution_count": 11,
   "metadata": {},
   "outputs": [
    {
     "data": {
      "text/plain": [
       "[4, 8, 12]"
      ]
     },
     "execution_count": 11,
     "metadata": {},
     "output_type": "execute_result"
    }
   ],
   "source": [
    "\n",
    "a = str(input())\n",
    "A = a.split()\n",
    "b = str(input())\n",
    "B = b.split()\n",
    "res = list(map(lambda x, y : int(x) + int(x), A , B))\n",
    "res"
   ]
  },
  {
   "cell_type": "markdown",
   "metadata": {},
   "source": [
    " Напишите программу на Python для поиска чисел из списка, кратных девятнадцати или тринадцати, используя filter и lambda.\n"
   ]
  },
  {
   "cell_type": "code",
   "execution_count": 36,
   "metadata": {},
   "outputs": [
    {
     "name": "stdout",
     "output_type": "stream",
     "text": [
      "['169', '38', '5']\n"
     ]
    },
    {
     "data": {
      "text/plain": [
       "['169', '38']"
      ]
     },
     "execution_count": 36,
     "metadata": {},
     "output_type": "execute_result"
    }
   ],
   "source": [
    "a = str(input())\n",
    "A = a.split()\n",
    "print(A)\n",
    "res = list(filter(lambda x:  (int(x)//13) and  (int(x) // 19  ) , A))\n",
    "res "
   ]
  },
  {
   "cell_type": "markdown",
   "metadata": {},
   "source": [
    " Напишите программу на Python для вычисления наибольшего элемента в списке при помощи reduce.\n",
    "\n"
   ]
  },
  {
   "cell_type": "markdown",
   "metadata": {},
   "source": [
    "a = str(input())\n",
    "A = a.split()\n",
    "from functools import reduce \n",
    "res = reduce(lambda x , y: int(x) + int(y)  , A)\n",
    "res"
   ]
  },
  {
   "cell_type": "code",
   "execution_count": 3,
   "metadata": {},
   "outputs": [
    {
     "name": "stdout",
     "output_type": "stream",
     "text": [
      "99\n"
     ]
    }
   ],
   "source": [
    "a = str(input())\n",
    "A = a.split()\n",
    "from functools import reduce \n",
    "res = reduce(lambda x , y: x if int(x)>int(y) else y , A)\n",
    "print(res)"
   ]
  }
 ],
 "metadata": {
  "kernelspec": {
   "display_name": "Python 3",
   "language": "python",
   "name": "python3"
  },
  "language_info": {
   "codemirror_mode": {
    "name": "ipython",
    "version": 3
   },
   "file_extension": ".py",
   "mimetype": "text/x-python",
   "name": "python",
   "nbconvert_exporter": "python",
   "pygments_lexer": "ipython3",
   "version": "3.11.6"
  }
 },
 "nbformat": 4,
 "nbformat_minor": 2
}
